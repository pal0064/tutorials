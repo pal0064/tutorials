{
 "cells": [
  {
   "cell_type": "markdown",
   "id": "391cd21e-e9dc-4d27-a14c-dc2d1bf14ff5",
   "metadata": {},
   "source": [
    "## Installing libraries"
   ]
  },
  {
   "cell_type": "code",
   "execution_count": 58,
   "id": "cd6ae702-77f1-4cee-98df-d68dbb1b0337",
   "metadata": {},
   "outputs": [],
   "source": [
    "%%capture\n",
    "!pip install streamlit pandas scikit-learn matplotlib plotly spacy-streamlit\n",
    "!python -m spacy download en_core_web_sm\n",
    "!python -m spacy download en_core_web_md"
   ]
  },
  {
   "cell_type": "markdown",
   "id": "9f962f15-f3a5-491b-9baa-e499e5591429",
   "metadata": {},
   "source": [
    "## A small Streamlit Demo"
   ]
  },
  {
   "cell_type": "code",
   "execution_count": 2,
   "id": "08bbdb37-a5ea-4c25-9588-30470be0c519",
   "metadata": {},
   "outputs": [
    {
     "name": "stdout",
     "output_type": "stream",
     "text": [
      "Writing app.py\n"
     ]
    }
   ],
   "source": [
    "%%writefile app.py\n",
    "import streamlit as st\n",
    "st.write('Hello, *World!* :sunglasses:')"
   ]
  },
  {
   "cell_type": "markdown",
   "id": "af714fde-8a2d-4a46-9a13-3210f6cc3344",
   "metadata": {},
   "source": [
    "## How to run streamlit application?"
   ]
  },
  {
   "cell_type": "code",
   "execution_count": 14,
   "id": "fe06f57c-5a63-46c7-9808-cdb9957e898a",
   "metadata": {},
   "outputs": [
    {
     "name": "stdout",
     "output_type": "stream",
     "text": [
      "\u001b[0m\n",
      "\u001b[34m\u001b[1m  You can now view your Streamlit app in your browser.\u001b[0m\n",
      "\u001b[0m\n",
      "\u001b[34m  Local URL: \u001b[0m\u001b[1mhttp://localhost:8502\u001b[0m\n",
      "\u001b[34m  Network URL: \u001b[0m\u001b[1mhttp://192.168.0.155:8502\u001b[0m\n",
      "\u001b[0m\n",
      "\u001b[34m\u001b[1m  For better performance, install the Watchdog module:\u001b[0m\n",
      "\n",
      "  $ xcode-select --install\n",
      "  $ pip install watchdog\n",
      "            \u001b[0m\n",
      "^C\n",
      "\u001b[34m  Stopping...\u001b[0m\n"
     ]
    }
   ],
   "source": [
    "!streamlit run app.py"
   ]
  },
  {
   "cell_type": "markdown",
   "id": "b5e99c7c-a220-401d-80b9-1a1a88b6d1aa",
   "metadata": {},
   "source": [
    "## How to write text?"
   ]
  },
  {
   "cell_type": "code",
   "execution_count": 23,
   "id": "086e26ae-70ec-4a50-8116-57dd5d6823cd",
   "metadata": {},
   "outputs": [
    {
     "name": "stdout",
     "output_type": "stream",
     "text": [
      "Overwriting app.py\n"
     ]
    }
   ],
   "source": [
    "%%writefile app.py\n",
    "import streamlit as st\n",
    "st.write(\"Local Application\")\n",
    "# to write the markdown content\n",
    "st.markdown(\"## This is my streamlit application\")\n",
    "st.sidebar.markdown(\"### this is side bar\")"
   ]
  },
  {
   "cell_type": "markdown",
   "id": "3e02eff7-6d0f-4cbc-8fcf-fc87d4a255d6",
   "metadata": {},
   "source": [
    "Changes will be reflected right away"
   ]
  },
  {
   "cell_type": "markdown",
   "id": "5b07cfd8-057d-4f5c-806a-7a8e0ee669b4",
   "metadata": {},
   "source": [
    "## How to show a table of data?"
   ]
  },
  {
   "cell_type": "code",
   "execution_count": 41,
   "id": "db62e0f2-7040-4e72-bc9b-f70d5fa3ebd5",
   "metadata": {},
   "outputs": [
    {
     "name": "stdout",
     "output_type": "stream",
     "text": [
      "Overwriting app.py\n"
     ]
    }
   ],
   "source": [
    "%%writefile app.py\n",
    "import streamlit as st\n",
    "import pandas as pd\n",
    "df = pd.read_parquet('https://raw.githubusercontent.com/pal0064/tutorials/master/streamlit_tutorial/housing_data_with_lat_long.parquet')\n",
    "st.write(df)"
   ]
  },
  {
   "cell_type": "markdown",
   "id": "7933bcb9-8a72-44a4-91d3-fd54f698c853",
   "metadata": {},
   "source": [
    "## How to add upload file functionality?"
   ]
  },
  {
   "cell_type": "code",
   "execution_count": 29,
   "id": "ddb68c03-1e9d-478d-8042-27e09b693f3f",
   "metadata": {},
   "outputs": [
    {
     "name": "stdout",
     "output_type": "stream",
     "text": [
      "Overwriting app.py\n"
     ]
    }
   ],
   "source": [
    "%%writefile app.py\n",
    "import streamlit as st\n",
    "import pandas as pd\n",
    "\n",
    "st.title('st.file_uploader')\n",
    "st.subheader('Input CSV')\n",
    "uploaded_file = st.file_uploader(\"Choose a file\",type=['csv'])\n",
    "\n",
    "if uploaded_file is not None:\n",
    "  df = pd.read_csv(uploaded_file)\n",
    "  st.subheader('DataFrame')\n",
    "  st.write(df)\n",
    "  st.subheader('Descriptive Statistics')\n",
    "  st.write(df.describe())\n",
    "else:\n",
    "  st.info('☝️ Upload a CSV file')"
   ]
  },
  {
   "cell_type": "markdown",
   "id": "5593392d-f883-4741-83c9-9c8e5575d0ef",
   "metadata": {},
   "source": [
    "## How to add a submit button?"
   ]
  },
  {
   "cell_type": "code",
   "execution_count": 35,
   "id": "33cb67c5-6208-40bd-8a55-40f0319137a2",
   "metadata": {},
   "outputs": [
    {
     "name": "stdout",
     "output_type": "stream",
     "text": [
      "Overwriting app.py\n"
     ]
    }
   ],
   "source": [
    "%%writefile app.py\n",
    "import streamlit as st\n",
    "\n",
    "st.header('st.button')\n",
    "\n",
    "def button_callback():\n",
    "    st.write('Goodbye')\n",
    "\n",
    "st.button('Say hello',on_click = button_callback)\n",
    "     "
   ]
  },
  {
   "cell_type": "markdown",
   "id": "3f6bab9e-2b1b-4371-b240-7466e63b4eed",
   "metadata": {},
   "source": [
    "## How to add filters ?"
   ]
  },
  {
   "cell_type": "markdown",
   "id": "1b7e81a9-ef34-45aa-a3e9-ab69a0078306",
   "metadata": {},
   "source": [
    "### Sliders"
   ]
  },
  {
   "cell_type": "code",
   "execution_count": 47,
   "id": "6c97e7dc-eb33-4f9a-bfbb-f6a63eff63bf",
   "metadata": {},
   "outputs": [
    {
     "name": "stdout",
     "output_type": "stream",
     "text": [
      "Overwriting app.py\n"
     ]
    }
   ],
   "source": [
    "%%writefile app.py\n",
    "import streamlit as st\n",
    "import pandas as pd\n",
    "data = pd.read_parquet('https://raw.githubusercontent.com/pal0064/tutorials/master/streamlit_tutorial/housing_data_with_lat_long.parquet',columns= ['zip','period_begin','period_end','county','median_sale_price', 'homes_sold', 'inventory','irs_estimated_population','longitude','latitude'])\n",
    "data = data.dropna()\n",
    "data['period_begin'] = pd.to_datetime(data['period_begin'])\n",
    "data['period_end'] = pd.to_datetime(data['period_end'])\n",
    "int_columns = ['median_sale_price', 'homes_sold', 'inventory', 'irs_estimated_population']\n",
    "data[int_columns] = data[int_columns].astype(float)\n",
    "data = data[data['median_sale_price']>=150000]\n",
    "value = st.slider(\"Max Price\", min_value = data['median_sale_price'].min( ),max_value = data['median_sale_price'].max( ),) \n",
    "data  = data[ data['median_sale_price'] <= value]\n",
    "st.write(data)"
   ]
  },
  {
   "cell_type": "markdown",
   "id": "2b46e52d-dd47-4b1a-8eee-0e3780d9d066",
   "metadata": {},
   "source": [
    "### Selectbox and Multiselect"
   ]
  },
  {
   "cell_type": "code",
   "execution_count": 51,
   "id": "47fefaf8-4cb9-486f-8b9e-26876c3703a0",
   "metadata": {},
   "outputs": [
    {
     "name": "stdout",
     "output_type": "stream",
     "text": [
      "Overwriting app.py\n"
     ]
    }
   ],
   "source": [
    "%%writefile app.py\n",
    "import streamlit as st\n",
    "import pandas as pd\n",
    "data = pd.read_parquet('https://raw.githubusercontent.com/pal0064/tutorials/master/streamlit_tutorial/housing_data_with_lat_long.parquet',columns= ['zip','period_begin','period_end','county','median_sale_price', 'homes_sold', 'inventory','irs_estimated_population','longitude','latitude'])\n",
    "data = data.dropna()\n",
    "data['period_begin'] = pd.to_datetime(data['period_begin'])\n",
    "data['period_end'] = pd.to_datetime(data['period_end'])\n",
    "int_columns = ['median_sale_price', 'homes_sold', 'inventory', 'irs_estimated_population']\n",
    "data[int_columns] = data[int_columns].astype(float)\n",
    "data = data[data['median_sale_price']>=150000]\n",
    "st.sidebar.header(\"Filters\")\n",
    "select_by = st.sidebar.selectbox(\"Select Location filter:\",['County','Zip'])\n",
    "if select_by == 'County':\n",
    "    selected_counties = st.sidebar.multiselect(\"Select Counties:\", data['county'].unique(),default=['Pima County'])\n",
    "    filtered_data = data[data['county'].isin(selected_counties)]\n",
    "elif select_by =='Zip':\n",
    "    selected_zip = st.sidebar.multiselect(\"Select Zip Code:\", data['zip'].unique(),default=[85719])\n",
    "    filtered_data = data[data['zip'].isin(selected_zip)]\n",
    "value = st.sidebar.slider(\"Max Price\", min_value = data['median_sale_price'].min( ),max_value = data['median_sale_price'].max( ),) \n",
    "filtered_data  = filtered_data[ filtered_data['median_sale_price'] <= value]\n",
    "st.write(filtered_data)"
   ]
  },
  {
   "cell_type": "markdown",
   "id": "1c31701c-e87e-44f3-be4b-518a6decb616",
   "metadata": {},
   "source": [
    "## How to add plots ?"
   ]
  },
  {
   "cell_type": "markdown",
   "id": "86e28a36-d127-47f9-8247-79265ca4496a",
   "metadata": {},
   "source": [
    "## Matplotlib"
   ]
  },
  {
   "cell_type": "code",
   "execution_count": 54,
   "id": "51986ec7-ed01-4ae6-bb51-ba75f5ba059a",
   "metadata": {},
   "outputs": [
    {
     "name": "stdout",
     "output_type": "stream",
     "text": [
      "Overwriting app.py\n"
     ]
    }
   ],
   "source": [
    "%%writefile app.py\n",
    "import streamlit as st\n",
    "import matplotlib.pyplot as plt\n",
    "import numpy as np\n",
    "arr = np.random.normal(1, 1, size=100)\n",
    "fig, ax = plt.subplots()\n",
    "ax.hist(arr, bins=20)\n",
    "st.pyplot(fig)"
   ]
  },
  {
   "cell_type": "markdown",
   "id": "34d08e1c-10a1-49ea-b5c0-da84caa36b62",
   "metadata": {},
   "source": [
    "### Plotly"
   ]
  },
  {
   "cell_type": "code",
   "execution_count": 56,
   "id": "19ba5976-c8a0-44f2-bdf8-50978ac6eb08",
   "metadata": {},
   "outputs": [
    {
     "name": "stdout",
     "output_type": "stream",
     "text": [
      "Overwriting app.py\n"
     ]
    }
   ],
   "source": [
    "%%writefile app.py\n",
    "import streamlit as st\n",
    "import numpy as np\n",
    "import plotly.figure_factory as ff\n",
    "\n",
    "# Add histogram data\n",
    "x1 = np.random.randn(200) - 2\n",
    "x2 = np.random.randn(200)\n",
    "x3 = np.random.randn(200) + 2\n",
    "\n",
    "# Group data together\n",
    "hist_data = [x1, x2, x3]\n",
    "\n",
    "group_labels = ['Group 1', 'Group 2', 'Group 3']\n",
    "\n",
    "# Create distplot with custom bin_size\n",
    "fig = ff.create_distplot(\n",
    "        hist_data, group_labels, bin_size=[.1, .25, .5])\n",
    "\n",
    "# Plot!\n",
    "st.plotly_chart(fig, use_container_width=True)"
   ]
  },
  {
   "cell_type": "markdown",
   "id": "184640f5-7426-4255-ac3c-2f98f4bbd0a9",
   "metadata": {},
   "source": [
    "### Spacy"
   ]
  },
  {
   "cell_type": "code",
   "execution_count": 62,
   "id": "e0949139-0544-47b1-af28-218b9ce9b5c0",
   "metadata": {},
   "outputs": [
    {
     "name": "stdout",
     "output_type": "stream",
     "text": [
      "Overwriting app.py\n"
     ]
    }
   ],
   "source": [
    "%%writefile app.py\n",
    "import spacy_streamlit\n",
    "models = [\"en_core_web_sm\", \"en_core_web_md\"]\n",
    "default_text = \"Sundar Pichai is the CEO of Google.\"\n",
    "spacy_streamlit.visualize(models, default_text)"
   ]
  },
  {
   "cell_type": "markdown",
   "id": "334dd773-4fce-49bb-8fa2-73b35267c8b2",
   "metadata": {},
   "source": [
    "## How to add a form ?"
   ]
  },
  {
   "cell_type": "code",
   "execution_count": 73,
   "id": "bb319783-5421-459e-a453-43a9408a2920",
   "metadata": {},
   "outputs": [
    {
     "name": "stdout",
     "output_type": "stream",
     "text": [
      "Overwriting app.py\n"
     ]
    }
   ],
   "source": [
    "%%writefile app.py\n",
    "import streamlit as st\n",
    "with st.form(\"my_form\"):\n",
    "    st.title(\"House Pricing Streamlit App\")\n",
    "    \n",
    "    # Input features\n",
    "    st.header(\"Input Features\")\n",
    "    \n",
    "    # Input feature: Number of bedrooms\n",
    "    bedrooms = st.slider(\"Number of Bedrooms\", 1, 10, 3)\n",
    "    \n",
    "    # Input feature: Number of bathrooms\n",
    "    bathrooms = st.slider(\"Number of Bathrooms\", 1, 10, 2)\n",
    "    \n",
    "    # Input feature: Square footage\n",
    "    square_footage = st.slider(\"Square Footage\", 500, 10000, 1500)\n",
    "    \n",
    "    # Input feature: Location (Dropdown)\n",
    "    locations = [\"Urban\", \"Suburban\", \"Rural\"]\n",
    "    location = st.selectbox(\"Location\", locations)\n",
    "    submitted = st.form_submit_button(\"Submit\")\n",
    "    if submitted:\n",
    "        st.write(\"## Input Features\")\n",
    "        st.write(f\"Number of Bedrooms: {bedrooms}\")\n",
    "        st.write(f\"Number of Bathrooms: {bathrooms}\")\n",
    "        st.write(f\"Square Footage: {square_footage} sq. ft.\")\n",
    "        st.write(f\"Location: {location}\")"
   ]
  },
  {
   "cell_type": "markdown",
   "id": "948f0e7e-e4c6-44ca-8f9a-d28036254b8b",
   "metadata": {},
   "source": [
    "## How to cache things?"
   ]
  },
  {
   "cell_type": "code",
   "execution_count": 76,
   "id": "f0b0dc2c-8708-4971-855b-f3331b2c112b",
   "metadata": {},
   "outputs": [
    {
     "name": "stdout",
     "output_type": "stream",
     "text": [
      "Overwriting app.py\n"
     ]
    }
   ],
   "source": [
    "%%writefile app.py\n",
    "import streamlit as st\n",
    "import pandas as pd\n",
    "@st.cache_data()\n",
    "def load_data(): \n",
    "    data = pd.read_parquet('https://raw.githubusercontent.com/pal0064/tutorials/master/streamlit_tutorial/housing_data_with_lat_long.parquet',columns= ['zip','period_begin','period_end','county','median_sale_price', 'homes_sold', 'inventory','irs_estimated_population','longitude','latitude'])\n",
    "    data = data.dropna()\n",
    "    data['period_begin'] = pd.to_datetime(data['period_begin'])\n",
    "    data['period_end'] = pd.to_datetime(data['period_end'])\n",
    "    int_columns = ['median_sale_price', 'homes_sold', 'inventory', 'irs_estimated_population']\n",
    "    data[int_columns] = data[int_columns].astype(float)\n",
    "    data = data[data['median_sale_price']>=150000]\n",
    "    return data \n",
    "data = load_data()\n",
    "st.sidebar.header(\"Filters\")\n",
    "select_by = st.sidebar.selectbox(\"Select Location filter:\",['County','Zip'])\n",
    "if select_by == 'County':\n",
    "    selected_counties = st.sidebar.multiselect(\"Select Counties:\", data['county'].unique(),default=['Pima County'])\n",
    "    filtered_data = data[data['county'].isin(selected_counties)]\n",
    "elif select_by =='Zip':\n",
    "    selected_zip = st.sidebar.multiselect(\"Select Zip Code:\", data['zip'].unique(),default=[85719])\n",
    "    filtered_data = data[data['zip'].isin(selected_zip)]\n",
    "value = st.sidebar.slider(\"Max Price\", min_value = data['median_sale_price'].min( ),max_value = data['median_sale_price'].max( ),) \n",
    "filtered_data  = filtered_data[ filtered_data['median_sale_price'] <= value]\n",
    "st.write(filtered_data)"
   ]
  },
  {
   "cell_type": "code",
   "execution_count": null,
   "id": "212b37c5-e952-4cd0-8e0c-6b2629929161",
   "metadata": {},
   "outputs": [],
   "source": []
  }
 ],
 "metadata": {
  "kernelspec": {
   "display_name": "Python 3 (ipykernel)",
   "language": "python",
   "name": "python3"
  },
  "language_info": {
   "codemirror_mode": {
    "name": "ipython",
    "version": 3
   },
   "file_extension": ".py",
   "mimetype": "text/x-python",
   "name": "python",
   "nbconvert_exporter": "python",
   "pygments_lexer": "ipython3",
   "version": "3.11.5"
  }
 },
 "nbformat": 4,
 "nbformat_minor": 5
}
