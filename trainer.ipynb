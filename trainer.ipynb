{
 "cells": [
  {
   "cell_type": "code",
   "execution_count": 47,
   "id": "0f9a78b6",
   "metadata": {},
   "outputs": [
    {
     "name": "stdout",
     "output_type": "stream",
     "text": [
      "Requirement already satisfied: joblib in /Library/Frameworks/Python.framework/Versions/3.10/lib/python3.10/site-packages (1.2.0)\r\n"
     ]
    }
   ],
   "source": [
    "!pip install joblib"
   ]
  },
  {
   "cell_type": "code",
   "execution_count": 1,
   "id": "966c6c0a",
   "metadata": {},
   "outputs": [],
   "source": [
    "data_path = 'streamlit_tutorial/housing_data_with_lat_long.parquet'"
   ]
  },
  {
   "cell_type": "code",
   "execution_count": 3,
   "id": "2af8c13e",
   "metadata": {},
   "outputs": [],
   "source": [
    "drop_cols = ['region','state_x','latitude','longitude','parent_metro_region','state_y','price_drops','price_drops_yoy','pending_sales_yoy','off_market_in_two_weeks_yoy']"
   ]
  },
  {
   "cell_type": "code",
   "execution_count": 5,
   "id": "a9238c6e",
   "metadata": {},
   "outputs": [],
   "source": [
    "import pandas as pd\n",
    "df = pd.read_parquet(data_path)\n",
    "drop_cols = ['region','state_x','latitude','longitude','parent_metro_region','state_y','price_drops','price_drops_yoy','pending_sales_yoy','off_market_in_two_weeks_yoy']\n",
    "df = df.drop(columns=drop_cols)\n",
    "df = df.dropna()\n",
    "df['period_begin'] = pd.to_datetime(df['period_begin'])\n",
    "df['period_end'] = pd.to_datetime(df['period_end'])\n",
    "int_columns = ['median_sale_price', 'homes_sold', 'inventory', 'irs_estimated_population']\n",
    "df[int_columns] = df[int_columns].astype(float)"
   ]
  },
  {
   "cell_type": "code",
   "execution_count": 8,
   "id": "f884ca44",
   "metadata": {},
   "outputs": [],
   "source": [
    "from datetime import datetime \n",
    "today_date = datetime.now()\n",
    "today_year = today_date.year\n",
    "today_month = today_date.month\n"
   ]
  },
  {
   "cell_type": "code",
   "execution_count": 9,
   "id": "d057eed1",
   "metadata": {},
   "outputs": [],
   "source": [
    "data = data.sort_values(by='period_end', ascending=False)"
   ]
  },
  {
   "cell_type": "code",
   "execution_count": null,
   "id": "591cc09c",
   "metadata": {},
   "outputs": [],
   "source": []
  },
  {
   "cell_type": "code",
   "execution_count": 53,
   "id": "15b179db",
   "metadata": {},
   "outputs": [
    {
     "name": "stdout",
     "output_type": "stream",
     "text": [
      "Mean Squared Error: 2636661670.101608\n"
     ]
    }
   ],
   "source": [
    "import pandas as pd\n",
    "from sklearn.model_selection import train_test_split\n",
    "from sklearn.ensemble import GradientBoostingRegressor\n",
    "from sklearn.metrics import mean_squared_error\n",
    "from sklearn.preprocessing import StandardScaler,LabelEncoder\n",
    "from sklearn.model_selection import train_test_split, GridSearchCV\n",
    "# Assuming your dataframe is named 'df'\n",
    "\n",
    "# Select relevant features and target variable\n",
    "features = ['zip','county','primary_city','period_year','period_month','property_type', 'median_list_price', 'median_sale_price_yoy', 'median_list_price_yoy',\n",
    "            'median_ppsf', 'median_ppsf_yoy', 'median_list_ppsf', 'median_list_ppsf_yoy',\n",
    "            'homes_sold', 'homes_sold_yoy', 'pending_sales', 'new_listings', 'new_listings_yoy',\n",
    "            'inventory', 'inventory_yoy', 'median_dom', 'median_dom_yoy', 'avg_sale_to_list',\n",
    "            'avg_sale_to_list_yoy', 'sold_above_list', 'sold_above_list_yoy',\n",
    "            'off_market_in_two_weeks', 'irs_estimated_population']\n",
    "\n",
    "numeric_features = ['median_list_price', 'median_sale_price_yoy', 'median_list_price_yoy',\n",
    "            'median_ppsf', 'median_ppsf_yoy', 'median_list_ppsf', 'median_list_ppsf_yoy',\n",
    "            'homes_sold', 'homes_sold_yoy', 'pending_sales', 'new_listings', 'new_listings_yoy',\n",
    "            'inventory', 'inventory_yoy', 'median_dom', 'median_dom_yoy', 'avg_sale_to_list',\n",
    "            'avg_sale_to_list_yoy', 'sold_above_list', 'sold_above_list_yoy',\n",
    "            'off_market_in_two_weeks', 'irs_estimated_population']\n",
    "target = 'median_sale_price'\n",
    "\n",
    "# Selecting features and target variable\n",
    "df['period_month'] = df['period_begin'].dt.month\n",
    "df['period_year'] = df['period_begin'].dt.year\n",
    "\n",
    "string_cols = ['zip','county','primary_city','property_type']\n",
    "label_encoder = LabelEncoder()\n",
    "for col in string_cols:\n",
    "# Apply LabelEncoder to the 'property_type' column\n",
    "    df[col] = label_encoder.fit_transform(df[col])\n",
    "\n",
    "train_df = df[df['period_begin'].dt.year!=2023]\n",
    "test_df = df[df['period_begin'].dt.year==2023]\n",
    "\n",
    "# Split the data into training and testing sets\n",
    "X_train,y_train, = train_df[features],train_df['median_sale_price']\n",
    "X_test,y_test = test_df[features],test_df['median_sale_price']\n",
    "\n",
    "# Standardize numerical features\n",
    "scaler = StandardScaler()\n",
    "X_train_scaled = X_train.copy()\n",
    "X_test_scaled = X_test.copy()\n",
    "\n",
    "\n",
    "X_train_scaled[numeric_features] = scaler.fit_transform(X_train[numeric_features])\n",
    "X_test_scaled[numeric_features] = scaler.transform(X_test[numeric_features])\n",
    "\n",
    "model = GradientBoostingRegressor(random_state=42)\n",
    "\n",
    "# Define the hyperparameter grid to search\n",
    "param_grid = {\n",
    "    'n_estimators': [50, 100, 150,200],\n",
    "    'learning_rate': [0.01, 0.1, 0.2],\n",
    "    'max_depth': [3, 4, 5]\n",
    "}\n",
    "param_grid = {\n",
    "    'n_estimators': [50],\n",
    "    'learning_rate': [0.2],\n",
    "    'max_depth': [3]}\n",
    "\n",
    "# Initialize GridSearchCV\n",
    "grid_search = GridSearchCV(estimator=model, param_grid=param_grid, scoring='neg_mean_squared_error', cv=3)\n",
    "\n",
    "# Perform grid search on the training data\n",
    "grid_search.fit(X_train_scaled, y_train)\n",
    "\n",
    "# Get the best hyperparameters\n",
    "best_params = grid_search.best_params_\n",
    "best_model = grid_search.best_estimator_\n",
    "predictions = best_model.predict(X_test_scaled)\n",
    "import joblib\n",
    "joblib.dump(best_model, 'streamlit_tutorial/prediction_model_tuned.joblib')\n",
    "# Evaluate the model\n",
    "mse = mean_squared_error(y_test, predictions)\n",
    "print(f'Mean Squared Error: {mse}')\n"
   ]
  },
  {
   "cell_type": "code",
   "execution_count": null,
   "id": "6e1ae127",
   "metadata": {},
   "outputs": [],
   "source": []
  },
  {
   "cell_type": "code",
   "execution_count": 54,
   "id": "45ddbb08",
   "metadata": {},
   "outputs": [],
   "source": [
    "import joblib\n",
    "joblib.dump(best_model, 'streamlit_tutorial/prediction_model_tuned.joblib')"
   ]
  },
  {
   "cell_type": "code",
   "execution_count": 55,
   "id": "4220a698",
   "metadata": {},
   "outputs": [
    {
     "data": {
      "text/plain": [
       "['prediction_model.joblib']"
      ]
     },
     "execution_count": 55,
     "metadata": {},
     "output_type": "execute_result"
    }
   ],
   "source": [
    "joblib.dump(best_model, 'prediction_model_tuned.joblib')"
   ]
  },
  {
   "cell_type": "code",
   "execution_count": null,
   "id": "546e6622",
   "metadata": {},
   "outputs": [],
   "source": [
    "md = joblib.load('streamlit_tutorial/prediction_model_tuned.joblib')\n",
    "prd=md.predict(X_test_scaled)\n",
    "mse = mean_squared_error(y_test, prd)\n",
    "print(f'Mean Squared Error: {mse}')"
   ]
  },
  {
   "cell_type": "code",
   "execution_count": 57,
   "id": "cd658b1e",
   "metadata": {},
   "outputs": [
    {
     "data": {
      "text/plain": [
       "(94187, 30)"
      ]
     },
     "execution_count": 57,
     "metadata": {},
     "output_type": "execute_result"
    }
   ],
   "source": [
    "train_df.shape"
   ]
  },
  {
   "cell_type": "code",
   "execution_count": 56,
   "id": "0a91a416",
   "metadata": {},
   "outputs": [
    {
     "data": {
      "text/plain": [
       "(6130, 30)"
      ]
     },
     "execution_count": 56,
     "metadata": {},
     "output_type": "execute_result"
    }
   ],
   "source": [
    "test_df.shape"
   ]
  },
  {
   "cell_type": "code",
   "execution_count": 59,
   "id": "e649e71f",
   "metadata": {},
   "outputs": [],
   "source": [
    "from sklearn.metrics import mean_squared_error, r2_score"
   ]
  },
  {
   "cell_type": "code",
   "execution_count": 61,
   "id": "f2b97d8e",
   "metadata": {},
   "outputs": [
    {
     "name": "stdout",
     "output_type": "stream",
     "text": [
      "Coefficient of determination: 0.96\n"
     ]
    }
   ],
   "source": [
    "# The coefficient of determination: 1 is perfect prediction\n",
    "print(\"Coefficient of determination: %.2f\" % r2_score(y_test, predictions))"
   ]
  },
  {
   "cell_type": "code",
   "execution_count": 62,
   "id": "c11da5ab",
   "metadata": {},
   "outputs": [
    {
     "data": {
      "text/plain": [
       "7         347500.0\n",
       "10        341666.5\n",
       "18        290000.0\n",
       "41        340000.0\n",
       "54        325000.0\n",
       "            ...   \n",
       "137099    399945.0\n",
       "137133    398948.0\n",
       "137157    415000.0\n",
       "137196    399990.0\n",
       "137221    430000.0\n",
       "Name: median_sale_price, Length: 6130, dtype: float64"
      ]
     },
     "execution_count": 62,
     "metadata": {},
     "output_type": "execute_result"
    }
   ],
   "source": [
    "y_test"
   ]
  },
  {
   "cell_type": "code",
   "execution_count": 63,
   "id": "b6901380",
   "metadata": {},
   "outputs": [
    {
     "data": {
      "text/plain": [
       "array([360419.58063567, 337249.06667894, 237380.43773779, ...,\n",
       "       432754.4289219 , 393573.0124122 , 438279.84431434])"
      ]
     },
     "execution_count": 63,
     "metadata": {},
     "output_type": "execute_result"
    }
   ],
   "source": [
    "predictions"
   ]
  },
  {
   "cell_type": "code",
   "execution_count": null,
   "id": "f1d51ad0",
   "metadata": {},
   "outputs": [],
   "source": []
  }
 ],
 "metadata": {
  "kernelspec": {
   "display_name": "Python 3 (ipykernel)",
   "language": "python",
   "name": "python3"
  },
  "language_info": {
   "codemirror_mode": {
    "name": "ipython",
    "version": 3
   },
   "file_extension": ".py",
   "mimetype": "text/x-python",
   "name": "python",
   "nbconvert_exporter": "python",
   "pygments_lexer": "ipython3",
   "version": "3.10.6"
  }
 },
 "nbformat": 4,
 "nbformat_minor": 5
}
